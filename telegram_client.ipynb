{
 "cells": [
  {
   "cell_type": "markdown",
   "metadata": {},
   "source": [
    "#### TODO (11/03/2020)\n",
    "0. Add \".ipynb_checkpoints/\", MacOs files (.DS_Store, etc) to .gitignore .\n",
    "1. Read about API!(important)\n",
    "2. Add code to connect to your telegram account and fetch messages from dialogs (it will be the hardest one, be ready for ~3 days on this point)<br/>\n",
    "2.1. You should get Telegram API credentials - https://core.telegram.org/<br/>\n",
    "2.2. You can use any telegram client which you prefer<br/>"
   ]
  },
  {
   "cell_type": "code",
   "execution_count": null,
   "metadata": {},
   "outputs": [],
   "source": []
  },
  {
   "cell_type": "code",
   "execution_count": null,
   "metadata": {},
   "outputs": [],
   "source": []
  },
  {
   "cell_type": "code",
   "execution_count": null,
   "metadata": {},
   "outputs": [],
   "source": []
  },
  {
   "cell_type": "code",
   "execution_count": 12,
   "metadata": {},
   "outputs": [
    {
     "name": "stdout",
     "output_type": "stream",
     "text": [
      "It's 2020 now.\n"
     ]
    }
   ],
   "source": [
    "year=2020;\n",
    "\n",
    "print(f\"It's {year} now.\")"
   ]
  }
 ],
 "metadata": {
  "kernelspec": {
   "display_name": "Python 3",
   "language": "python",
   "name": "python3"
  },
  "language_info": {
   "codemirror_mode": {
    "name": "ipython",
    "version": 3
   },
   "file_extension": ".py",
   "mimetype": "text/x-python",
   "name": "python",
   "nbconvert_exporter": "python",
   "pygments_lexer": "ipython3",
   "version": "3.7.4"
  }
 },
 "nbformat": 4,
 "nbformat_minor": 4
}
